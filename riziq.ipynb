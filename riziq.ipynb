{
  "nbformat": 4,
  "nbformat_minor": 0,
  "metadata": {
    "colab": {
      "provenance": []
    },
    "kernelspec": {
      "name": "python3",
      "display_name": "Python 3"
    },
    "language_info": {
      "name": "python"
    }
  },
  "cells": [
    {
      "cell_type": "code",
      "execution_count": 1,
      "metadata": {
        "id": "0SqO7xS6HiRL"
      },
      "outputs": [],
      "source": [
        "# Import Libraries\n",
        "import numpy as np\n",
        "import pandas as pd\n",
        "import matplotlib.pyplot as plt\n",
        "from sklearn.model_selection import LeaveOneOut, cross_val_predict\n",
        "from sklearn.preprocessing import StandardScaler\n",
        "from sklearn import svm\n",
        "from sklearn.metrics import confusion_matrix, accuracy_score, precision_score, recall_score, f1_score\n",
        "from skimage.feature import hog\n",
        "from mlxtend.plotting import plot_confusion_matrix"
      ]
    },
    {
      "cell_type": "code",
      "source": [
        "# Load Dataset\n",
        "train_data = pd.read_csv('/content/emnist-bymerge-train.csv', header=None)\n",
        "test_data = pd.read_csv('/content/emnist-bymerge-test.csv', header=None)"
      ],
      "metadata": {
        "id": "He13XfyRI7D2"
      },
      "execution_count": 2,
      "outputs": []
    },
    {
      "cell_type": "code",
      "source": [
        "# Split Data into Features and Labels\n",
        "X_train = train_data.iloc[:, 1:].values.reshape(-1, 28, 28).astype('float32')\n",
        "y_train = train_data.iloc[:, 0].values.astype('int')\n",
        "X_test = test_data.iloc[:, 1:].values.reshape(-1, 28, 28).astype('float32')\n",
        "y_test = test_data.iloc[:, 0].values.astype('int')"
      ],
      "metadata": {
        "id": "akyWRMBgJDIw"
      },
      "execution_count": 3,
      "outputs": []
    },
    {
      "cell_type": "code",
      "source": [
        "# Set Minimum and Maximum Index for Test Data\n",
        "min_test_samples = 200   # Set minimum index for test samples\n",
        "max_test_samples = 500  # Set maximum index for test samples"
      ],
      "metadata": {
        "id": "Cll6fR7YJFVD"
      },
      "execution_count": 4,
      "outputs": []
    },
    {
      "cell_type": "code",
      "source": [
        "# Apply the Range to Test Data\n",
        "X_test = X_test[min_test_samples:max_test_samples]\n",
        "y_test = y_test[min_test_samples:max_test_samples]"
      ],
      "metadata": {
        "id": "Y7Cnns1pJI-n"
      },
      "execution_count": 5,
      "outputs": []
    },
    {
      "cell_type": "code",
      "source": [
        "# Limit Training Samples\n",
        "max_samples_train = 200\n",
        "if len(X_train) > max_samples_train:\n",
        "    X_train = X_train[:max_samples_train]\n",
        "    y_train = y_train[:max_samples_train]"
      ],
      "metadata": {
        "id": "MOfAsUKHJOA1"
      },
      "execution_count": 6,
      "outputs": []
    },
    {
      "cell_type": "code",
      "source": [
        "# HOG Feature Extraction with Tuning\n",
        "def extract_hog_features(images, orientations=9, pixels_per_cell=(8, 8), cells_per_block=(2, 2)):\n",
        "    hog_features = []\n",
        "    hog_images = []\n",
        "    for image in images:\n",
        "        feature, hog_img = hog(image.reshape((28, 28)),\n",
        "                               orientations=orientations,\n",
        "                               pixels_per_cell=pixels_per_cell,\n",
        "                               cells_per_block=cells_per_block,\n",
        "                               visualize=True,\n",
        "                               block_norm='L2')\n",
        "        hog_features.append(feature)\n",
        "        hog_images.append(hog_img)\n",
        "    return np.array(hog_features), np.array(hog_images)\n"
      ],
      "metadata": {
        "id": "LWZszINsJQ2B"
      },
      "execution_count": 7,
      "outputs": []
    },
    {
      "cell_type": "code",
      "source": [
        "# Extract HOG Features from Training and Test Data\n",
        "hog_features_train, hog_images_train = extract_hog_features(X_train, orientations=5, pixels_per_cell=(2, 2), cells_per_block=(3, 3))\n",
        "hog_features_test, hog_images_test = extract_hog_features(X_test, orientations=5, pixels_per_cell=(2, 2), cells_per_block=(3, 3))\n"
      ],
      "metadata": {
        "id": "bktO8BG-JWqL"
      },
      "execution_count": 8,
      "outputs": []
    },
    {
      "cell_type": "code",
      "source": [
        "# Standardize HOG Features\n",
        "scaler = StandardScaler()\n",
        "hog_features_train_scaled = scaler.fit_transform(hog_features_train)\n",
        "hog_features_test_scaled = scaler.transform(hog_features_test)"
      ],
      "metadata": {
        "id": "QdKd3YEwJbo3"
      },
      "execution_count": 9,
      "outputs": []
    },
    {
      "cell_type": "code",
      "source": [
        "# SVM Classifier with Tuned Parameters\n",
        "clf = svm.SVC(kernel='rbf', C=1, gamma='scale')"
      ],
      "metadata": {
        "id": "BIOO3-3PJemw"
      },
      "execution_count": 10,
      "outputs": []
    },
    {
      "cell_type": "code",
      "source": [
        "# Evaluation with LOOCV\n",
        "loo = LeaveOneOut()\n",
        "y_pred = cross_val_predict(clf, hog_features_train_scaled, y_train, cv=loo)\n"
      ],
      "metadata": {
        "id": "ESveVUtrJlsW"
      },
      "execution_count": 11,
      "outputs": []
    },
    {
      "cell_type": "code",
      "source": [
        "# Calculate Evaluation Metrics\n",
        "loo_confusion_matrix = confusion_matrix(y_train, y_pred)\n",
        "loo_accuracy = accuracy_score(y_train, y_pred)\n",
        "loo_precision = precision_score(y_train, y_pred, average='weighted', zero_division=1)\n",
        "loo_recall = recall_score(y_train, y_pred, average='weighted', zero_division=1)\n",
        "loo_f1 = f1_score(y_train, y_pred, average='weighted', zero_division=1)"
      ],
      "metadata": {
        "id": "rWWy5jkjJomp"
      },
      "execution_count": 12,
      "outputs": []
    },
    {
      "cell_type": "code",
      "source": [
        "# Display Results\n",
        "print(\"\\nLOOCV Results (Training Data):\")\n",
        "print(\"Confusion Matrix:\\n\", loo_confusion_matrix)\n",
        "print(\"Accuracy:\", loo_accuracy)\n",
        "print(\"Precision:\", loo_precision)\n",
        "print(\"Recall:\", loo_recall)\n",
        "print(\"F1 Score:\", loo_f1)\n",
        "\n",
        "\n",
        "from mlxtend.plotting import plot_confusion_matrix"
      ],
      "metadata": {
        "colab": {
          "base_uri": "https://localhost:8080/"
        },
        "id": "Vk0yZce8JpjV",
        "outputId": "e51f44a3-57d3-468f-c687-cc46c339017b"
      },
      "execution_count": 13,
      "outputs": [
        {
          "output_type": "stream",
          "name": "stdout",
          "text": [
            "\n",
            "LOOCV Results (Training Data):\n",
            "Confusion Matrix:\n",
            " [[13  0  0 ...  0  0  0]\n",
            " [ 0 16  0 ...  0  0  0]\n",
            " [ 0  0  8 ...  0  0  0]\n",
            " ...\n",
            " [ 0  1  0 ...  0  0  0]\n",
            " [ 0  0  0 ...  0  0  0]\n",
            " [ 0  2  0 ...  0  0  6]]\n",
            "Accuracy: 0.405\n",
            "Precision: 0.7109562825841574\n",
            "Recall: 0.405\n",
            "F1 Score: 0.29175443842607357\n"
          ]
        }
      ]
    },
    {
      "cell_type": "code",
      "source": [
        "# Comparison of Original and HOG Features Images\n",
        "def plot_images_with_hog(X, hog_images, title=\"\"):\n",
        "    fig, axes = plt.subplots(2, 10, figsize=(15, 5))\n",
        "    fig.suptitle(title)\n",
        "\n",
        "    # Plot original images\n",
        "    for i in range(min(len(X), 10)):\n",
        "        axes[0, i].imshow(X[i].reshape((28, 28)), cmap='gray')\n",
        "        axes[0, i].axis('off')\n",
        "\n",
        "    # Plot HOG images\n",
        "    for i in range(min(len(hog_images), 10)):\n",
        "        axes[1, i].imshow(hog_images[i].reshape((28, 28)), cmap='gray')\n",
        "        axes[1, i].axis('off')\n",
        "\n",
        "    plt.show()"
      ],
      "metadata": {
        "id": "eyzMO5q1J4ir"
      },
      "execution_count": 14,
      "outputs": []
    },
    {
      "cell_type": "code",
      "source": [
        "\n",
        "plot_images_with_hog(X_test, hog_images_test, title=\"Original Test Images and HOG Features\")\n",
        ""
      ],
      "metadata": {
        "colab": {
          "base_uri": "https://localhost:8080/",
          "height": 433
        },
        "id": "g7cVA9tLJ8VH",
        "outputId": "845f865a-593b-4241-b1c0-366c07ea8f40"
      },
      "execution_count": 16,
      "outputs": [
        {
          "output_type": "display_data",
          "data": {
            "text/plain": [
              "<Figure size 1500x500 with 20 Axes>"
            ],
            "image/png": "[encoded data removed]"
          },
          "metadata": {}
        }
      ]
    }
  ]
}